{
 "cells": [
  {
   "cell_type": "markdown",
   "metadata": {
    "id": "z1K2V85XXI0o"
   },
   "source": [
    "Name: Minh T. Nguyen\n",
    "\n",
    "Future Scientist Program - ACC - DoWhy Package\n",
    "\n",
    "Estimating the Effect of a Member Rewards Program\n",
    "\n",
    "### Credits:\n",
    "\n",
    "1. This Algorithms: https://github.com/microsoft/dowhy/blob/master/docs/source/example_notebooks/dowhy_example_effect_of_memberrewards_program.ipynb\n",
    "\n",
    "2. CI tutorial: https://github.com/amit-sharma/causal-inference-tutorial/tree/master/python\n",
    "\n",
    "3. Other Application: https://microsoft.github.io/dowhy/example_notebooks/tutorial-causalinference-machinelearning-using-dowhy-econml.html#Why-causal-inference?\n",
    "\n",
    "4. Package: https://microsoft.github.io/dowhy/\n",
    "\n",
    "5. Paper: https://paperswithcode.com/paper/dowhy-an-end-to-end-library-for-causal\n"
   ]
  },
  {
   "cell_type": "markdown",
   "metadata": {
    "id": "nSgHvm6aYhVa"
   },
   "source": [
    "###1. Abstract: \n",
    "*The DoWhy package can be used to estimate the effect of a subscription or  rewards program for customers\n",
    "\n",
    "*Suppose that Target has a membershp rewards program where customers receive additional benefits if they sign up. We want to know if the program is effective. \n",
    "\n",
    "###-> What is the impact of offering the membership rewards program on the total sales?\n",
    "###-> If the current members had not signed up for the program, how much less would they have spent on the websites?\n",
    "\n",
    "*This is the problem related to Average Treatment Effect on the Treated (ATT)"
   ]
  },
  {
   "cell_type": "markdown",
   "metadata": {
    "id": "NqP_WkxgciQr"
   },
   "source": [
    "###2. Formulating the Causal Model\n",
    "\n",
    "The rewarding program of Target was introduced in Jan 2019. The features are data of all monthly transactions of every user and on the time of singup for those who chose to signup for the rewards program. "
   ]
  },
  {
   "cell_type": "code",
   "execution_count": null,
   "metadata": {
    "colab": {
     "base_uri": "https://localhost:8080/",
     "height": 402
    },
    "id": "4g2MLpyxWyRo",
    "outputId": "856fb8e6-d023-48b4-a146-712953fd5710"
   },
   "outputs": [
    {
     "data": {
      "text/html": [
       "<div>\n",
       "<style scoped>\n",
       "    .dataframe tbody tr th:only-of-type {\n",
       "        vertical-align: middle;\n",
       "    }\n",
       "\n",
       "    .dataframe tbody tr th {\n",
       "        vertical-align: top;\n",
       "    }\n",
       "\n",
       "    .dataframe thead th {\n",
       "        text-align: right;\n",
       "    }\n",
       "</style>\n",
       "<table border=\"1\" class=\"dataframe\">\n",
       "  <thead>\n",
       "    <tr style=\"text-align: right;\">\n",
       "      <th></th>\n",
       "      <th>user_id</th>\n",
       "      <th>signup_month</th>\n",
       "      <th>month</th>\n",
       "      <th>spend</th>\n",
       "      <th>treatment</th>\n",
       "    </tr>\n",
       "  </thead>\n",
       "  <tbody>\n",
       "    <tr>\n",
       "      <th>0</th>\n",
       "      <td>0</td>\n",
       "      <td>10</td>\n",
       "      <td>1</td>\n",
       "      <td>483</td>\n",
       "      <td>True</td>\n",
       "    </tr>\n",
       "    <tr>\n",
       "      <th>1</th>\n",
       "      <td>0</td>\n",
       "      <td>10</td>\n",
       "      <td>2</td>\n",
       "      <td>512</td>\n",
       "      <td>True</td>\n",
       "    </tr>\n",
       "    <tr>\n",
       "      <th>2</th>\n",
       "      <td>0</td>\n",
       "      <td>10</td>\n",
       "      <td>3</td>\n",
       "      <td>464</td>\n",
       "      <td>True</td>\n",
       "    </tr>\n",
       "    <tr>\n",
       "      <th>3</th>\n",
       "      <td>0</td>\n",
       "      <td>10</td>\n",
       "      <td>4</td>\n",
       "      <td>466</td>\n",
       "      <td>True</td>\n",
       "    </tr>\n",
       "    <tr>\n",
       "      <th>4</th>\n",
       "      <td>0</td>\n",
       "      <td>10</td>\n",
       "      <td>5</td>\n",
       "      <td>456</td>\n",
       "      <td>True</td>\n",
       "    </tr>\n",
       "    <tr>\n",
       "      <th>...</th>\n",
       "      <td>...</td>\n",
       "      <td>...</td>\n",
       "      <td>...</td>\n",
       "      <td>...</td>\n",
       "      <td>...</td>\n",
       "    </tr>\n",
       "    <tr>\n",
       "      <th>119995</th>\n",
       "      <td>9999</td>\n",
       "      <td>5</td>\n",
       "      <td>8</td>\n",
       "      <td>496</td>\n",
       "      <td>True</td>\n",
       "    </tr>\n",
       "    <tr>\n",
       "      <th>119996</th>\n",
       "      <td>9999</td>\n",
       "      <td>5</td>\n",
       "      <td>9</td>\n",
       "      <td>516</td>\n",
       "      <td>True</td>\n",
       "    </tr>\n",
       "    <tr>\n",
       "      <th>119997</th>\n",
       "      <td>9999</td>\n",
       "      <td>5</td>\n",
       "      <td>10</td>\n",
       "      <td>511</td>\n",
       "      <td>True</td>\n",
       "    </tr>\n",
       "    <tr>\n",
       "      <th>119998</th>\n",
       "      <td>9999</td>\n",
       "      <td>5</td>\n",
       "      <td>11</td>\n",
       "      <td>480</td>\n",
       "      <td>True</td>\n",
       "    </tr>\n",
       "    <tr>\n",
       "      <th>119999</th>\n",
       "      <td>9999</td>\n",
       "      <td>5</td>\n",
       "      <td>12</td>\n",
       "      <td>496</td>\n",
       "      <td>True</td>\n",
       "    </tr>\n",
       "  </tbody>\n",
       "</table>\n",
       "<p>120000 rows × 5 columns</p>\n",
       "</div>"
      ],
      "text/plain": [
       "        user_id  signup_month  month  spend  treatment\n",
       "0             0            10      1    483       True\n",
       "1             0            10      2    512       True\n",
       "2             0            10      3    464       True\n",
       "3             0            10      4    466       True\n",
       "4             0            10      5    456       True\n",
       "...         ...           ...    ...    ...        ...\n",
       "119995     9999             5      8    496       True\n",
       "119996     9999             5      9    516       True\n",
       "119997     9999             5     10    511       True\n",
       "119998     9999             5     11    480       True\n",
       "119999     9999             5     12    496       True\n",
       "\n",
       "[120000 rows x 5 columns]"
      ]
     },
     "execution_count": 14,
     "metadata": {
      "tags": []
     },
     "output_type": "execute_result"
    }
   ],
   "source": [
    "# Creating some simulated data for the example\n",
    "import pandas as pd\n",
    "import numpy as np\n",
    "\n",
    "num_users = 10000\n",
    "num_months = 12\n",
    "\n",
    "# Create tuples of users and signup months\n",
    "signup_months = np.random.choice(np.arange(1, num_months), num_users) * np.random.randint(0,2,size=num_users)\n",
    "\n",
    "# Generating table of dataset\n",
    "df = pd.DataFrame({\n",
    "    'user_id': np.repeat(np.arange(num_users), num_months),\n",
    "    'signup_month': np.repeat(signup_months, num_months), # signup months == 0 means that the customer did not sign up\n",
    "    'month': np.tile(np.arange(1, num_months+1), num_users), # months are from 1 to 12\n",
    "    'spend': np.random.poisson(500, num_users*num_months) #np.random.beta(a=2, b=5, size=num_users * num_months)*1000 # centered at 500\n",
    "    })\n",
    "\n",
    "# Assigning a treatment value based on the signup month. If not signup then the treatment is False, else True\n",
    "df[\"treatment\"] = (1-(df[\"signup_month\"]==0)).astype(bool)\n",
    "\n",
    "# Simulating effect of month (monotonically increasing - customers buy the most in December)\n",
    "df[\"spend\"] = df[\"spend\"] - df[\"month\"]*10\n",
    "\n",
    "# The Treatment Effect (simulating a simple treatment effect of 100)\n",
    "after_signup = (df[\"signup_month\"] < df[\"month\"]) & (df[\"signup_month\"] !=0)\n",
    "df.loc[after_signup,\"spend\"] = df[after_signup][\"spend\"] + 100\n",
    "\n",
    "df"
   ]
  },
  {
   "cell_type": "markdown",
   "metadata": {
    "id": "3ElGAU1NieWJ"
   },
   "source": [
    "###3. The Consideration on Time\n",
    "\n",
    "*Time plays a crucial role in modeling this problem. Why? Rewards signup can affect the future transactions, but not those that happened before it. In fact, the transaction prior to the rewards signup can be assumed to CAUSE the rewards signup decision. Thus, we can split up the variables for each user in term of \n",
    "\n",
    "(1) Activity prior to the treatment (causes the treatment) - the signup program\n",
    "\n",
    "(2) Activity after the treatment (is the outcome of applying treatmennt) - the signup program\n",
    "\n",
    "HERE, many important variables that affect signup and total spend are missing (e.g., the type of products bought, length of a user's account, geography, etc.). So we'll need a node denoting Unobserved Confounders."
   ]
  },
  {
   "cell_type": "code",
   "execution_count": null,
   "metadata": {
    "colab": {
     "base_uri": "https://localhost:8080/"
    },
    "id": "7N7bMpKzkAL0",
    "outputId": "92f70c5f-4fb5-4edc-c1e6-ec4634a87cc3"
   },
   "outputs": [
    {
     "name": "stdout",
     "output_type": "stream",
     "text": [
      "Requirement already satisfied: dowhy in /usr/local/lib/python3.7/dist-packages (0.6)\n",
      "Requirement already satisfied: statsmodels in /usr/local/lib/python3.7/dist-packages (from dowhy) (0.10.2)\n",
      "Requirement already satisfied: pydot>=1.4 in /usr/local/lib/python3.7/dist-packages (from dowhy) (1.4.2)\n",
      "Requirement already satisfied: pandas>=0.24 in /usr/local/lib/python3.7/dist-packages (from dowhy) (1.1.5)\n",
      "Requirement already satisfied: sympy>=1.4 in /usr/local/lib/python3.7/dist-packages (from dowhy) (1.7.1)\n",
      "Requirement already satisfied: scikit-learn in /usr/local/lib/python3.7/dist-packages (from dowhy) (0.22.2.post1)\n",
      "Requirement already satisfied: numpy>=1.15 in /usr/local/lib/python3.7/dist-packages (from dowhy) (1.19.5)\n",
      "Requirement already satisfied: scipy in /usr/local/lib/python3.7/dist-packages (from dowhy) (1.4.1)\n",
      "Requirement already satisfied: networkx>=2.0 in /usr/local/lib/python3.7/dist-packages (from dowhy) (2.5)\n",
      "Requirement already satisfied: patsy>=0.4.0 in /usr/local/lib/python3.7/dist-packages (from statsmodels->dowhy) (0.5.1)\n",
      "Requirement already satisfied: pyparsing>=2.1.4 in /usr/local/lib/python3.7/dist-packages (from pydot>=1.4->dowhy) (2.4.7)\n",
      "Requirement already satisfied: python-dateutil>=2.7.3 in /usr/local/lib/python3.7/dist-packages (from pandas>=0.24->dowhy) (2.8.1)\n",
      "Requirement already satisfied: pytz>=2017.2 in /usr/local/lib/python3.7/dist-packages (from pandas>=0.24->dowhy) (2018.9)\n",
      "Requirement already satisfied: mpmath>=0.19 in /usr/local/lib/python3.7/dist-packages (from sympy>=1.4->dowhy) (1.2.1)\n",
      "Requirement already satisfied: joblib>=0.11 in /usr/local/lib/python3.7/dist-packages (from scikit-learn->dowhy) (1.0.1)\n",
      "Requirement already satisfied: decorator>=4.3.0 in /usr/local/lib/python3.7/dist-packages (from networkx>=2.0->dowhy) (4.4.2)\n",
      "Requirement already satisfied: six in /usr/local/lib/python3.7/dist-packages (from patsy>=0.4.0->statsmodels->dowhy) (1.15.0)\n"
     ]
    }
   ],
   "source": [
    "!pip install dowhy"
   ]
  },
  {
   "cell_type": "code",
   "execution_count": null,
   "metadata": {
    "id": "QhpU0ASej0gZ"
   },
   "outputs": [],
   "source": [
    "import os, sys\n",
    "sys.path.append(os.path.abspath(\"../../../\"))\n",
    "import dowhy\n",
    "\n",
    "# Setting the signup month (for ease of analysis)\n",
    "i = 6"
   ]
  },
  {
   "cell_type": "code",
   "execution_count": null,
   "metadata": {
    "colab": {
     "base_uri": "https://localhost:8080/",
     "height": 540
    },
    "id": "P3XcCqhzkKY5",
    "outputId": "13dad678-98c1-42a9-98ce-09c9d3608bfc"
   },
   "outputs": [
    {
     "name": "stdout",
     "output_type": "stream",
     "text": [
      "      user_id  signup_month  treatment  pre_spends  post_spends\n",
      "0           1             6       True       482.6   515.833333\n",
      "1           2             0      False       469.4   385.666667\n",
      "2           3             6       True       465.2   510.166667\n",
      "3           4             0      False       460.0   404.000000\n",
      "4           5             0      False       457.6   416.166667\n",
      "...       ...           ...        ...         ...          ...\n",
      "5507     9993             0      False       472.6   401.500000\n",
      "5508     9994             0      False       466.0   408.500000\n",
      "5509     9996             6       True       487.6   504.000000\n",
      "5510     9997             6       True       471.8   509.666667\n",
      "5511     9998             0      False       470.0   416.333333\n",
      "\n",
      "[5512 rows x 5 columns]\n"
     ]
    },
    {
     "data": {
      "image/png": "[encoded data removed]",
      "text/plain": [
       "<IPython.core.display.Image object>"
      ]
     },
     "metadata": {
      "tags": []
     },
     "output_type": "display_data"
    }
   ],
   "source": [
    "causal_graph = \"\"\"digraph {\n",
    "treatment[label=\"Program Signup in month i\"];\n",
    "pre_spends;\n",
    "post_spends;\n",
    "Z->treatment;\n",
    "U[label=\"Unobserved Confounders\"]; \n",
    "pre_spends -> treatment;\n",
    "treatment->post_spends;\n",
    "signup_month->post_spends; signup_month->pre_spends;\n",
    "signup_month->treatment;\n",
    "U->treatment; U->pre_spends; U->post_spends;\n",
    "}\"\"\"\n",
    "\n",
    "# Post-process the data based on the graph and the month of the treatment (sign up program)\n",
    "df_i_signupmonth = df[df.signup_month.isin([0,i])].groupby([\"user_id\", \"signup_month\", \"treatment\"]).apply(\n",
    "    lambda x: pd.Series({'pre_spends': np.sum(np.where(x.month < i, x.spend,0))/np.sum(np.where(x.month<i, 1,0)),\n",
    "                        'post_spends': np.sum(np.where(x.month > i, x.spend,0))/np.sum(np.where(x.month>i, 1,0)) })\n",
    "    ).reset_index()\n",
    "\n",
    "print(df_i_signupmonth) # Reprint the updated table\n",
    "\n",
    "model = dowhy.CausalModel(data=df_i_signupmonth,\n",
    "                     graph=causal_graph.replace(\"\\n\", \" \"),\n",
    "                     treatment=\"treatment\",\n",
    "                     outcome=\"post_spends\")\n",
    "\n",
    "# model.view_model()\n",
    "from IPython.display import Image, display\n",
    "display(Image(filename=\"causal_model.png\"))"
   ]
  },
  {
   "cell_type": "markdown",
   "metadata": {
    "id": "dbfqTDkXmUYn"
   },
   "source": [
    "###4. Identifying the Causal Effect\n",
    "\n",
    "For simplicy, says we assume that unobserved confounding does not play a big part"
   ]
  },
  {
   "cell_type": "code",
   "execution_count": null,
   "metadata": {
    "colab": {
     "base_uri": "https://localhost:8080/"
    },
    "id": "6q3utI_fmTXw",
    "outputId": "fa23b3af-a352-4d75-9dc6-e6fec1723e88"
   },
   "outputs": [
    {
     "name": "stdout",
     "output_type": "stream",
     "text": [
      "Estimand type: nonparametric-ate\n",
      "\n",
      "### Estimand : 1\n",
      "Estimand name: backdoor\n",
      "Estimand expression:\n",
      "     d                                                        \n",
      "────────────(Expectation(post_spends|signup_month,pre_spends))\n",
      "d[treatment]                                                  \n",
      "Estimand assumption 1, Unconfoundedness: If U→{treatment} and U→post_spends then P(post_spends|treatment,signup_month,pre_spends,U) = P(post_spends|treatment,signup_month,pre_spends)\n",
      "\n",
      "### Estimand : 2\n",
      "Estimand name: iv\n",
      "Estimand expression:\n",
      "Expectation(Derivative(post_spends, [Z])*Derivative([treatment], [Z])**(-1))\n",
      "Estimand assumption 1, As-if-random: If U→→post_spends then ¬(U →→{Z})\n",
      "Estimand assumption 2, Exclusion: If we remove {Z}→{treatment}, then ¬({Z}→post_spends)\n",
      "\n",
      "### Estimand : 3\n",
      "Estimand name: frontdoor\n",
      "No such variable found!\n",
      "\n"
     ]
    }
   ],
   "source": [
    "identified_estimand = model.identify_effect(proceed_when_unidentifiable=True)\n",
    "\n",
    "print(identified_estimand)"
   ]
  },
  {
   "cell_type": "markdown",
   "metadata": {
    "id": "p8aHOYAIm3ek"
   },
   "source": [
    "Based on the graph, DoWhy determines that the signup month and amount spent in the pre-treatment months (signup_months, pre_spend) need to be conditioned on"
   ]
  },
  {
   "cell_type": "markdown",
   "metadata": {
    "id": "rkJLOa0vnVx9"
   },
   "source": [
    "### 5. Estimating the effect\n",
    "\n",
    "We now estimate the effect based on the backdoor estimate, setting the targe units to \"att\"\n"
   ]
  },
  {
   "cell_type": "code",
   "execution_count": null,
   "metadata": {
    "colab": {
     "base_uri": "https://localhost:8080/"
    },
    "id": "s6hlKmHanoOp",
    "outputId": "1dba76d1-76d0-4c77-87c9-6d14a5661ca7"
   },
   "outputs": [
    {
     "name": "stderr",
     "output_type": "stream",
     "text": [
      "/usr/local/lib/python3.7/dist-packages/sklearn/utils/validation.py:760: DataConversionWarning: A column-vector y was passed when a 1d array was expected. Please change the shape of y to (n_samples, ), for example using ravel().\n",
      "  y = column_or_1d(y, warn=True)\n"
     ]
    },
    {
     "name": "stdout",
     "output_type": "stream",
     "text": [
      "*** Causal Estimate ***\n",
      "\n",
      "## Identified estimand\n",
      "Estimand type: nonparametric-ate\n",
      "\n",
      "## Realized estimand\n",
      "b: post_spends~treatment+signup_month+pre_spends\n",
      "Target units: att\n",
      "\n",
      "## Estimate\n",
      "Mean value: 103.72095671981776\n",
      "\n"
     ]
    }
   ],
   "source": [
    "estimate = model.estimate_effect(identified_estimand, \n",
    "                                 method_name=\"backdoor1.propensity_score_matching\",\n",
    "                                target_units=\"att\")\n",
    "print(estimate)"
   ]
  },
  {
   "cell_type": "markdown",
   "metadata": {
    "id": "m9gjLMQVtjfA"
   },
   "source": [
    "###What does these feedback means?\n",
    "\n",
    "*The analysis tell us the Average Treatmetn Effect on the Treated (ATT). That is, the average effect on the total spend for the customers that signed up for the Rewarding Program in month i=6 (compared to the case where they had not signed up). \n",
    "\n",
    "*Note: We can similarly calculalte the effect for customers who signed up in any other month by changing the value i = 6\n",
    "\n",
    "*Note that the estimation suffers from left and right-censoring\n",
    "\n",
    "1. Left-censoring: If the customer signs up in the first month, we do not have enough transaction history to match them to similar customers who did not sign up (and thus apply the backdoor identified estimation)\n",
    "\n",
    "2. Right-censoring: if the customer signs up in the lastmonth, we do not have enought future (post-treatment) transactions to estimate the outcocme after sing up.\n",
    "\n",
    "*Thus, even if the effect of signup was the same across all months, the estimated effects may be different by month of signup, due to lack of data (and thus high variance in estimated pre-treatment or post-treatment transactions activity)."
   ]
  },
  {
   "cell_type": "markdown",
   "metadata": {
    "id": "hnFcAxTPvfPg"
   },
   "source": [
    "### 6. Refuting the estimate:\n",
    "\n",
    "*We refute the estimate using the placebo treatment refuter. This refuter substitutes the treatment by an independent random variable and checks whether our estimate now goes to zero"
   ]
  },
  {
   "cell_type": "code",
   "execution_count": null,
   "metadata": {
    "colab": {
     "base_uri": "https://localhost:8080/"
    },
    "id": "w59EYmdpvkUu",
    "outputId": "dd87271c-bf80-48cb-824d-33ee1b5defb5"
   },
   "outputs": [
    {
     "name": "stderr",
     "output_type": "stream",
     "text": [
      "/usr/local/lib/python3.7/dist-packages/sklearn/utils/validation.py:760: DataConversionWarning: A column-vector y was passed when a 1d array was expected. Please change the shape of y to (n_samples, ), for example using ravel().\n",
      "  y = column_or_1d(y, warn=True)\n",
      "/usr/local/lib/python3.7/dist-packages/sklearn/utils/validation.py:760: DataConversionWarning: A column-vector y was passed when a 1d array was expected. Please change the shape of y to (n_samples, ), for example using ravel().\n",
      "  y = column_or_1d(y, warn=True)\n"
     ]
    },
    {
     "name": "stdout",
     "output_type": "stream",
     "text": [
      "Refute: Use a Placebo Treatment\n",
      "Estimated effect:103.72095671981776\n",
      "New effect:0.6421791951404714\n",
      "p value:0.11916793187897057\n",
      "\n"
     ]
    }
   ],
   "source": [
    "refutation = model.refute_estimate(identified_estimand, estimate, method_name=\"placebo_treatment_refuter\",\n",
    "                     placebo_type=\"permute\", num_simulations=2)\n",
    "print(refutation)"
   ]
  },
  {
   "cell_type": "code",
   "execution_count": null,
   "metadata": {
    "id": "ay5b_qvmvm-y"
   },
   "outputs": [],
   "source": []
  }
 ],
 "metadata": {
  "colab": {
   "collapsed_sections": [],
   "name": "Causality_Algorithm_DoWhy1.ipynb",
   "provenance": []
  },
  "kernelspec": {
   "display_name": "Python 3",
   "language": "python",
   "name": "python3"
  },
  "language_info": {
   "codemirror_mode": {
    "name": "ipython",
    "version": 3
   },
   "file_extension": ".py",
   "mimetype": "text/x-python",
   "name": "python",
   "nbconvert_exporter": "python",
   "pygments_lexer": "ipython3",
   "version": "3.7.6"
  }
 },
 "nbformat": 4,
 "nbformat_minor": 1
}
