{
 "cells": [
  {
   "cell_type": "markdown",
   "metadata": {},
   "source": [
    "# Text Attack / Text Augmentation\n",
    "\n",
    "Resource:\n",
    "- https://towardsdatascience.com/text-data-augmentation-f4143571ecd2\n",
    "\n",
    "Why is it hard?\n",
    "- Unlike Image Recognition, you can't flip, crop, rotate, blur, zoom\n",
    "- There are 3 libraries for Text Augmentation / Adversarial Attack:\n",
    "    - TextAttack: https://github.com/QData/TextAttack\n",
    "    - Googletrans:https://github.com/DarinRowe/googletrans\n",
    "    - TextFooler: https://github.com/jind11/TextFooler\n",
    "    \n",
    "Text Attacks: There are 6 methods for data augmentation\n",
    "- WordNetAugmenter\n",
    "- EmbeddingAugmenter\n",
    "- CharSwapAugmenter\n",
    "- EasyDataAugmenter\n",
    "- CheckListAugmenter\n",
    "- CLAREAugmenter"
   ]
  },
  {
   "cell_type": "code",
   "execution_count": null,
   "metadata": {},
   "outputs": [],
   "source": [
    "!pip install pyarrow==0.16.0"
   ]
  },
  {
   "cell_type": "code",
   "execution_count": null,
   "metadata": {},
   "outputs": [],
   "source": [
    "!pip install textattack"
   ]
  },
  {
   "cell_type": "code",
   "execution_count": null,
   "metadata": {},
   "outputs": [],
   "source": [
    "import textattack\n",
    "from textattack.augmentation import WordNetAugmenter, EmbeddingAugmenter, EasyDataAugmenter, CharSwapAugmenter"
   ]
  },
  {
   "cell_type": "code",
   "execution_count": null,
   "metadata": {},
   "outputs": [],
   "source": [
    "# First row of pew_bb_data\n",
    "# input_text = \"Any municipality shall have the right to own and operate a telephone exchange within its own borders, subject to the provisions of this chapter. It may construct such plant, or purchase an existing plant by agreement with the owner, or where it cannot agree with the owner on price, it may acquire an existing plant by condemnation, as hereinafter provided, but in no case shall a municipality construct or purchase such a plant or proceed to acquire an existing plant by condemnation until such action by it is authorized by a majority of the electors voting upon the proposition at a general election or a special election called for that purpose, and if the proposal is to construct a new exchange where an exchange already exists, it shall not be authorized to do so unless 65 percent of those voting thereon vote in favor of the undertaking. A municipality that owns and operates a telephone exchange may enter into a joint venture as a partner or shareholder with a telecommunications organization to provide telecommunications services within its service area.\"\n",
    "input_text = \"Any municipality shall have the right to own and operate a telephone exchange within its own borders\""
   ]
  },
  {
   "cell_type": "code",
   "execution_count": null,
   "metadata": {},
   "outputs": [],
   "source": [
    "print(input_text)"
   ]
  },
  {
   "cell_type": "code",
   "execution_count": null,
   "metadata": {},
   "outputs": [],
   "source": [
    "aug = WordNetAugmenter()\n",
    "aug.augment(input_text)"
   ]
  },
  {
   "cell_type": "code",
   "execution_count": null,
   "metadata": {},
   "outputs": [],
   "source": []
  }
 ],
 "metadata": {
  "kernelspec": {
   "display_name": "Python 3",
   "language": "python",
   "name": "python3"
  },
  "language_info": {
   "codemirror_mode": {
    "name": "ipython",
    "version": 3
   },
   "file_extension": ".py",
   "mimetype": "text/x-python",
   "name": "python",
   "nbconvert_exporter": "python",
   "pygments_lexer": "ipython3",
   "version": "3.7.6"
  }
 },
 "nbformat": 4,
 "nbformat_minor": 4
}
