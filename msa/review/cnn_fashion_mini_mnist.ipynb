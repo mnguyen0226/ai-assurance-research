{
 "cells": [
  {
   "cell_type": "markdown",
   "id": "908392bb",
   "metadata": {},
   "source": [
    "# CNN Fashion MNIST Mini Project\n",
    "- Fashion MNIST:\n",
    "    - 10 classes\n",
    "    - 60000 training images\n",
    "    - 10000 testing images"
   ]
  },
  {
   "cell_type": "markdown",
   "id": "d53257d8",
   "metadata": {},
   "source": [
    "## 1. Prepare the data:\n",
    "- E = Extract - Get Fashion MNIST image data from the source\n",
    "- T = Transform - Put data to tensor form\n",
    "- L = Load - Put data to object for easier accessed"
   ]
  },
  {
   "cell_type": "code",
   "execution_count": 1,
   "id": "af8c9b67",
   "metadata": {},
   "outputs": [],
   "source": [
    "import torch\n",
    "import torchvision\n",
    "import torchvision.transforms as transforms # image transformation"
   ]
  },
  {
   "cell_type": "code",
   "execution_count": null,
   "id": "6dfe98ff",
   "metadata": {},
   "outputs": [],
   "source": [
    "train_set = torchvision.datasets.FashionMNIST(\n",
    "    root = './data/FashionMNIST',\n",
    "    train = True,\n",
    "    download = True,\n",
    "    transform = transforms.Compose([\n",
    "        transforms.ToTensor()\n",
    "    ])\n",
    ")"
   ]
  }
 ],
 "metadata": {
  "kernelspec": {
   "display_name": "Python 3",
   "language": "python",
   "name": "python3"
  },
  "language_info": {
   "codemirror_mode": {
    "name": "ipython",
    "version": 3
   },
   "file_extension": ".py",
   "mimetype": "text/x-python",
   "name": "python",
   "nbconvert_exporter": "python",
   "pygments_lexer": "ipython3",
   "version": "3.8.8"
  }
 },
 "nbformat": 4,
 "nbformat_minor": 5
}
