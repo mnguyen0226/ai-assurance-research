{
 "cells": [
  {
   "cell_type": "markdown",
   "id": "d2e45394",
   "metadata": {},
   "source": [
    "# Pytorch Sequential Class:\n",
    "- Sequential Class implement forward methods for us\n",
    "- You might not be able to customize forward feed"
   ]
  },
  {
   "cell_type": "code",
   "execution_count": 1,
   "id": "2e07619b",
   "metadata": {},
   "outputs": [],
   "source": [
    "import torch\n",
    "import torch.nn as nn\n",
    "import torch.nn.functional as F\n",
    "import torchvision\n",
    "import torchvision.transforms as transforms\n",
    "import matplotlib.pyplot as plt\n",
    "import math\n",
    "\n",
    "from collections import OrderedDict\n",
    "torch.set_printoptions(linewidth=150)"
   ]
  },
  {
   "cell_type": "code",
   "execution_count": 2,
   "id": "24d6fbf2",
   "metadata": {},
   "outputs": [],
   "source": [
    "train_set = torchvision.datasets.FashionMNIST(\n",
    "    root=\"./data\",\n",
    "    train=True,\n",
    "    download=True,\n",
    "    transform=transforms.Compose([\n",
    "        transforms.ToTensor() \n",
    "    ])\n",
    ")"
   ]
  },
  {
   "cell_type": "code",
   "execution_count": 3,
   "id": "08781043",
   "metadata": {},
   "outputs": [
    {
     "data": {
      "text/plain": [
       "torch.Size([1, 28, 28])"
      ]
     },
     "execution_count": 3,
     "metadata": {},
     "output_type": "execute_result"
    }
   ],
   "source": [
    "image, label = train_set[0]\n",
    "image.shape"
   ]
  },
  {
   "cell_type": "code",
   "execution_count": 4,
   "id": "709dbc1f",
   "metadata": {},
   "outputs": [
    {
     "data": {
      "text/plain": [
       "<matplotlib.image.AxesImage at 0x19d762ced30>"
      ]
     },
     "execution_count": 4,
     "metadata": {},
     "output_type": "execute_result"
    },
    {
     "data": {
      "image/png": "[encoded data removed]",
      "text/plain": [
       "<Figure size 432x288 with 1 Axes>"
      ]
     },
     "metadata": {
      "needs_background": "light"
     },
     "output_type": "display_data"
    }
   ],
   "source": [
    "plt.imshow(image.squeeze(), cmap='gray')"
   ]
  },
  {
   "cell_type": "code",
   "execution_count": 5,
   "id": "0be875ac",
   "metadata": {},
   "outputs": [
    {
     "data": {
      "text/plain": [
       "['T-shirt/top',\n",
       " 'Trouser',\n",
       " 'Pullover',\n",
       " 'Dress',\n",
       " 'Coat',\n",
       " 'Sandal',\n",
       " 'Shirt',\n",
       " 'Sneaker',\n",
       " 'Bag',\n",
       " 'Ankle boot']"
      ]
     },
     "execution_count": 5,
     "metadata": {},
     "output_type": "execute_result"
    }
   ],
   "source": [
    "train_set.classes"
   ]
  },
  {
   "cell_type": "code",
   "execution_count": 6,
   "id": "b19c1bcb",
   "metadata": {},
   "outputs": [
    {
     "data": {
      "text/plain": [
       "784"
      ]
     },
     "execution_count": 6,
     "metadata": {},
     "output_type": "execute_result"
    }
   ],
   "source": [
    "in_features = image.numel()\n",
    "in_features"
   ]
  },
  {
   "cell_type": "code",
   "execution_count": 7,
   "id": "939eaf4c",
   "metadata": {},
   "outputs": [
    {
     "data": {
      "text/plain": [
       "392"
      ]
     },
     "execution_count": 7,
     "metadata": {},
     "output_type": "execute_result"
    }
   ],
   "source": [
    "out_features = math.floor(in_features / 2)\n",
    "out_features"
   ]
  },
  {
   "cell_type": "code",
   "execution_count": 8,
   "id": "b3cf6af0",
   "metadata": {},
   "outputs": [
    {
     "data": {
      "text/plain": [
       "10"
      ]
     },
     "execution_count": 8,
     "metadata": {},
     "output_type": "execute_result"
    }
   ],
   "source": [
    "out_classes = len(train_set.classes)\n",
    "out_classes"
   ]
  },
  {
   "cell_type": "code",
   "execution_count": 9,
   "id": "f629a068",
   "metadata": {},
   "outputs": [
    {
     "data": {
      "text/plain": [
       "Sequential(\n",
       "  (0): Flatten(start_dim=1, end_dim=-1)\n",
       "  (1): Linear(in_features=784, out_features=392, bias=True)\n",
       "  (2): Linear(in_features=392, out_features=10, bias=True)\n",
       ")"
      ]
     },
     "execution_count": 9,
     "metadata": {},
     "output_type": "execute_result"
    }
   ],
   "source": [
    "network1 = nn.Sequential(\n",
    "    nn.Flatten(start_dim=1), # 28*28 = 784\n",
    "    nn.Linear(in_features, out_features),\n",
    "    nn.Linear(out_features, out_classes)  \n",
    ")\n",
    "\n",
    "network1"
   ]
  },
  {
   "cell_type": "code",
   "execution_count": 10,
   "id": "47da5865",
   "metadata": {},
   "outputs": [
    {
     "data": {
      "text/plain": [
       "torch.Size([1, 1, 28, 28])"
      ]
     },
     "execution_count": 10,
     "metadata": {},
     "output_type": "execute_result"
    }
   ],
   "source": [
    "image = image.unsqueeze(0)\n",
    "image.shape"
   ]
  },
  {
   "cell_type": "code",
   "execution_count": 11,
   "id": "7e5c42b8",
   "metadata": {},
   "outputs": [
    {
     "data": {
      "text/plain": [
       "Linear(in_features=784, out_features=392, bias=True)"
      ]
     },
     "execution_count": 11,
     "metadata": {},
     "output_type": "execute_result"
    }
   ],
   "source": [
    "network1[1]"
   ]
  },
  {
   "cell_type": "code",
   "execution_count": 12,
   "id": "46afd994",
   "metadata": {},
   "outputs": [
    {
     "data": {
      "text/plain": [
       "tensor([[-0.0947, -0.1557,  0.4402,  0.0196,  0.2162,  0.0942,  0.0638, -0.1437, -0.0227, -0.2737]], grad_fn=<AddmmBackward>)"
      ]
     },
     "execution_count": 12,
     "metadata": {},
     "output_type": "execute_result"
    }
   ],
   "source": [
    "network1(image)"
   ]
  },
  {
   "cell_type": "code",
   "execution_count": 13,
   "id": "47bcb9bf",
   "metadata": {},
   "outputs": [
    {
     "data": {
      "text/plain": [
       "Sequential(\n",
       "  (flat): Flatten(start_dim=1, end_dim=-1)\n",
       "  (hidden): Linear(in_features=784, out_features=392, bias=True)\n",
       "  (output): Linear(in_features=392, out_features=10, bias=True)\n",
       ")"
      ]
     },
     "execution_count": 13,
     "metadata": {},
     "output_type": "execute_result"
    }
   ],
   "source": [
    "# Instead of Sequential, we can do OrderedDict: You can named you layer\n",
    "layers = OrderedDict([\n",
    "    ('flat', nn.Flatten(start_dim=1)),\n",
    "    ('hidden', nn.Linear(in_features, out_features)),\n",
    "    ('output', nn.Linear(out_features, out_classes))\n",
    "])\n",
    "\n",
    "network2 = nn.Sequential(layers)\n",
    "network2"
   ]
  },
  {
   "cell_type": "code",
   "execution_count": 14,
   "id": "dabf4d78",
   "metadata": {},
   "outputs": [
    {
     "data": {
      "text/plain": [
       "tensor([[-0.0610, -0.0372, -0.2145, -0.2512,  0.1660,  0.2066, -0.0374, -0.1429,  0.3047, -0.0454]], grad_fn=<AddmmBackward>)"
      ]
     },
     "execution_count": 14,
     "metadata": {},
     "output_type": "execute_result"
    }
   ],
   "source": [
    "network2(image)"
   ]
  },
  {
   "cell_type": "code",
   "execution_count": 18,
   "id": "f27c9e25",
   "metadata": {},
   "outputs": [
    {
     "name": "stdout",
     "output_type": "stream",
     "text": [
      "Network 1: tensor([[ 0.1681,  0.1028, -0.0790, -0.0659, -0.2436,  0.1328, -0.0864,  0.0016,  0.1819, -0.0168]], grad_fn=<AddmmBackward>)\n",
      "Network 2: tensor([[ 0.1681,  0.1028, -0.0790, -0.0659, -0.2436,  0.1328, -0.0864,  0.0016,  0.1819, -0.0168]], grad_fn=<AddmmBackward>)\n"
     ]
    }
   ],
   "source": [
    "# Showed that both network provide same prediction\n",
    "torch.manual_seed(50)\n",
    "network1 = nn.Sequential(\n",
    "    nn.Flatten(start_dim=1), # 28*28 = 784\n",
    "    nn.Linear(in_features, out_features),\n",
    "    nn.Linear(out_features, out_classes)  \n",
    ")\n",
    "\n",
    "torch.manual_seed(50)\n",
    "layers = OrderedDict([\n",
    "    ('flat', nn.Flatten(start_dim=1)),\n",
    "    ('hidden', nn.Linear(in_features, out_features)),\n",
    "    ('output', nn.Linear(out_features, out_classes))\n",
    "])\n",
    "\n",
    "network2 = nn.Sequential(layers)\n",
    "\n",
    "print(f\"Network 1: {network1(image)}\")\n",
    "print(f\"Network 2: {network2(image)}\")"
   ]
  },
  {
   "cell_type": "code",
   "execution_count": 19,
   "id": "ac43960e",
   "metadata": {},
   "outputs": [
    {
     "data": {
      "text/plain": [
       "Sequential(\n",
       "  (flat): Flatten(start_dim=1, end_dim=-1)\n",
       "  (hidden): Linear(in_features=784, out_features=392, bias=True)\n",
       "  (output): Linear(in_features=392, out_features=10, bias=True)\n",
       ")"
      ]
     },
     "execution_count": 19,
     "metadata": {},
     "output_type": "execute_result"
    }
   ],
   "source": [
    "# Third way to create network\n",
    "torch.manual_seed(50)\n",
    "network3 = nn.Sequential()\n",
    "network3.add_module(\"flat\", nn.Flatten(start_dim=1))\n",
    "network3.add_module(\"hidden\", nn.Linear(in_features, out_features))\n",
    "network3.add_module(\"output\", nn.Linear(out_features, out_classes))\n",
    "network3"
   ]
  },
  {
   "cell_type": "code",
   "execution_count": 20,
   "id": "d9234264",
   "metadata": {},
   "outputs": [
    {
     "data": {
      "text/plain": [
       "(tensor([[ 0.1681,  0.1028, -0.0790, -0.0659, -0.2436,  0.1328, -0.0864,  0.0016,  0.1819, -0.0168]], grad_fn=<AddmmBackward>),\n",
       " tensor([[ 0.1681,  0.1028, -0.0790, -0.0659, -0.2436,  0.1328, -0.0864,  0.0016,  0.1819, -0.0168]], grad_fn=<AddmmBackward>),\n",
       " tensor([[ 0.1681,  0.1028, -0.0790, -0.0659, -0.2436,  0.1328, -0.0864,  0.0016,  0.1819, -0.0168]], grad_fn=<AddmmBackward>))"
      ]
     },
     "execution_count": 20,
     "metadata": {},
     "output_type": "execute_result"
    }
   ],
   "source": [
    "network1(image), network2(image), network3(image)"
   ]
  },
  {
   "cell_type": "markdown",
   "id": "c97e75ab",
   "metadata": {},
   "source": [
    "## Builiding a Network Class"
   ]
  },
  {
   "cell_type": "code",
   "execution_count": 22,
   "id": "2f68f17f",
   "metadata": {},
   "outputs": [],
   "source": [
    "class Network(nn.Module):\n",
    "    def __init__(self):\n",
    "        super().__init__()\n",
    "        # Convolutional layers\n",
    "        \n",
    "        self.conv1 = nn.Conv2d(in_channels=1, out_channels=6, kernel_size=5, stride=1) # in_channel = 1 = grayscale, hyperparam, hyperparam\n",
    "        self.conv2 = nn.Conv2d(in_channels=6, out_channels=12, kernel_size=5, stride=1) # we in crease the output channel when have extra conv layers\n",
    "                \n",
    "        # Fully connected layers\n",
    "        self.fc1 = nn.Linear(in_features=12*4*4, out_features=120, bias=True) # we also shrink the number of features to number of class that we have\n",
    "        self.fc2 = nn.Linear(in_features = 120, out_features=60, bias=True)\n",
    "        self.out = nn.Linear(in_features = 60, out_features=10, bias=True) \n",
    "        \n",
    "    def forward(self, t):\n",
    "        # input layer\n",
    "        t = t\n",
    "        \n",
    "        # convolution 1, not \n",
    "        t = self.conv1(t)\n",
    "        t = F.relu(t) # operation do not use weight, unlike layers\n",
    "        t = F.max_pool2d(t, kernel_size=2, stride=2) # operation do not use weight, unlike layers\n",
    "        \n",
    "        # convolution 2: => relu => maxpool\n",
    "        t = self.conv2(t)\n",
    "        # WHY do we need these 2 layers?\n",
    "        t = F.relu(t) \n",
    "        t = F.max_pool2d(t, kernel_size=2, stride=2) # how to determine these values?\n",
    "        \n",
    "        # Transition from Conv to Linear will require flatten\n",
    "        t = t.reshape(-1, 12*4*4) # 4x4 = shape of reduce image (originally 28x28)\n",
    "        \n",
    "        # linear 1:\n",
    "        t = self.fc1(t)\n",
    "        t = F.relu(t)\n",
    "        \n",
    "        # linear 2:\n",
    "        t = self.fc2(t)\n",
    "        t = F.relu(t)\n",
    "        \n",
    "        # output:\n",
    "        t = self.out(t)\n",
    "        \n",
    "        return t"
   ]
  },
  {
   "cell_type": "code",
   "execution_count": 23,
   "id": "81c1674c",
   "metadata": {},
   "outputs": [
    {
     "data": {
      "text/plain": [
       "Network(\n",
       "  (conv1): Conv2d(1, 6, kernel_size=(5, 5), stride=(1, 1))\n",
       "  (conv2): Conv2d(6, 12, kernel_size=(5, 5), stride=(1, 1))\n",
       "  (fc1): Linear(in_features=192, out_features=120, bias=True)\n",
       "  (fc2): Linear(in_features=120, out_features=60, bias=True)\n",
       "  (out): Linear(in_features=60, out_features=10, bias=True)\n",
       ")"
      ]
     },
     "execution_count": 23,
     "metadata": {},
     "output_type": "execute_result"
    }
   ],
   "source": [
    "torch.manual_seed(50)\n",
    "network = Network()\n",
    "network"
   ]
  },
  {
   "cell_type": "markdown",
   "id": "2e72bc90",
   "metadata": {},
   "source": [
    "## Building the same network using Sequential"
   ]
  },
  {
   "cell_type": "code",
   "execution_count": 26,
   "id": "dea65fd1",
   "metadata": {},
   "outputs": [],
   "source": [
    "# way 1 - Sequential - no need forward, contain ReLU, MaxPool\n",
    "torch.manual_seed(50)\n",
    "sequential1 = nn.Sequential(\n",
    "    nn.Conv2d(in_channels=1, out_channels=6, kernel_size=5),\n",
    "    nn.ReLU(),\n",
    "    nn.MaxPool2d(kernel_size=2, stride=2),\n",
    "    nn.Conv2d(in_channels=6, out_channels=12, kernel_size=5),\n",
    "    nn.ReLU(),\n",
    "    nn.MaxPool2d(kernel_size=2, stride=2),\n",
    "    nn.Flatten(start_dim=1),\n",
    "    nn.Linear(in_features=12*4*4, out_features=120),\n",
    "    nn.ReLU(),\n",
    "    nn.Linear(in_features=120, out_features=60),\n",
    "    nn.ReLU(),\n",
    "    nn.Linear(in_features=60, out_features=10)\n",
    ")"
   ]
  },
  {
   "cell_type": "code",
   "execution_count": 37,
   "id": "a324f6f6",
   "metadata": {},
   "outputs": [],
   "source": [
    "torch.manual_seed(50)\n",
    "layers = OrderedDict([\n",
    "    ('conv1', nn.Conv2d(in_channels=1, out_channels=6, kernel_size=5)),\n",
    "    ('relu1', nn.ReLU()),\n",
    "    ('maxpool1', nn.MaxPool2d(kernel_size=2, stride=2)),\n",
    "    \n",
    "    ('conv2', nn.Conv2d(in_channels=6, out_channels=12, kernel_size=5)),\n",
    "    ('relu2', nn.ReLU()),\n",
    "    ('maxpool2', nn.MaxPool2d(kernel_size=2, stride=2)),\n",
    "    \n",
    "    ('flatten', nn.Flatten(start_dim=1)),\n",
    "    ('fc1', nn.Linear(in_features=12*4*4, out_features=120)),\n",
    "    ('relu3', nn.ReLU()),\n",
    "    \n",
    "    ('fc2', nn.Linear(in_features=120, out_features=60)),\n",
    "    ('relu4', nn.ReLU()),\n",
    "    ('out', nn.Linear(in_features=60, out_features=10))\n",
    "])\n",
    "\n",
    "sequential2 = nn.Sequential(layers)"
   ]
  },
  {
   "cell_type": "code",
   "execution_count": 38,
   "id": "2a39c317",
   "metadata": {},
   "outputs": [],
   "source": [
    "torch.manual_seed(50)\n",
    "sequential3 = nn.Sequential()\n",
    "sequential3.add_module('conv1', nn.Conv2d(in_channels=1, out_channels=6, kernel_size=5))\n",
    "sequential3.add_module('relu1', nn.ReLU())\n",
    "sequential3.add_module('maxpool1', nn.MaxPool2d(kernel_size=2, stride=2))\n",
    "\n",
    "sequential3.add_module('conv2', nn.Conv2d(in_channels=6, out_channels=12, kernel_size=5))\n",
    "sequential3.add_module('relu2', nn.ReLU())\n",
    "sequential3.add_module('maxpool2', nn.MaxPool2d(kernel_size=2, stride=2))\n",
    "\n",
    "sequential3.add_module('flatten', nn.Flatten(start_dim=1))\n",
    "sequential3.add_module('fc1', nn.Linear(in_features=12*4*4, out_features=120))\n",
    "sequential3.add_module('relu3', nn.ReLU())\n",
    "\n",
    "sequential3.add_module('fc2', nn.Linear(in_features=120, out_features=60))\n",
    "sequential3.add_module('relu4', nn.ReLU())\n",
    "sequential3.add_module('out', nn.Linear(in_features=60, out_features=10))"
   ]
  },
  {
   "cell_type": "code",
   "execution_count": 39,
   "id": "9403aaad",
   "metadata": {},
   "outputs": [
    {
     "data": {
      "text/plain": [
       "Sequential(\n",
       "  (0): Conv2d(1, 6, kernel_size=(5, 5), stride=(1, 1))\n",
       "  (1): ReLU()\n",
       "  (2): MaxPool2d(kernel_size=2, stride=2, padding=0, dilation=1, ceil_mode=False)\n",
       "  (3): Conv2d(6, 12, kernel_size=(5, 5), stride=(1, 1))\n",
       "  (4): ReLU()\n",
       "  (5): MaxPool2d(kernel_size=2, stride=2, padding=0, dilation=1, ceil_mode=False)\n",
       "  (6): Flatten(start_dim=1, end_dim=-1)\n",
       "  (7): Linear(in_features=192, out_features=120, bias=True)\n",
       "  (8): ReLU()\n",
       "  (9): Linear(in_features=120, out_features=60, bias=True)\n",
       "  (10): ReLU()\n",
       "  (11): Linear(in_features=60, out_features=10, bias=True)\n",
       ")"
      ]
     },
     "execution_count": 39,
     "metadata": {},
     "output_type": "execute_result"
    }
   ],
   "source": [
    "sequential1"
   ]
  },
  {
   "cell_type": "code",
   "execution_count": 40,
   "id": "ab1c0431",
   "metadata": {},
   "outputs": [
    {
     "data": {
      "text/plain": [
       "Sequential(\n",
       "  (conv1): Conv2d(1, 6, kernel_size=(5, 5), stride=(1, 1))\n",
       "  (relu1): ReLU()\n",
       "  (maxpool1): MaxPool2d(kernel_size=2, stride=2, padding=0, dilation=1, ceil_mode=False)\n",
       "  (conv2): Conv2d(6, 12, kernel_size=(5, 5), stride=(1, 1))\n",
       "  (relu2): ReLU()\n",
       "  (maxpool2): MaxPool2d(kernel_size=2, stride=2, padding=0, dilation=1, ceil_mode=False)\n",
       "  (flatten): Flatten(start_dim=1, end_dim=-1)\n",
       "  (fc1): Linear(in_features=192, out_features=120, bias=True)\n",
       "  (relu3): ReLU()\n",
       "  (fc2): Linear(in_features=120, out_features=60, bias=True)\n",
       "  (relu4): ReLU()\n",
       "  (out): Linear(in_features=60, out_features=10, bias=True)\n",
       ")"
      ]
     },
     "execution_count": 40,
     "metadata": {},
     "output_type": "execute_result"
    }
   ],
   "source": [
    "sequential2"
   ]
  },
  {
   "cell_type": "code",
   "execution_count": 41,
   "id": "932ff80c",
   "metadata": {},
   "outputs": [
    {
     "data": {
      "text/plain": [
       "Sequential(\n",
       "  (conv1): Conv2d(1, 6, kernel_size=(5, 5), stride=(1, 1))\n",
       "  (relu1): ReLU()\n",
       "  (maxpool1): MaxPool2d(kernel_size=2, stride=2, padding=0, dilation=1, ceil_mode=False)\n",
       "  (conv2): Conv2d(6, 12, kernel_size=(5, 5), stride=(1, 1))\n",
       "  (relu2): ReLU()\n",
       "  (maxpool2): MaxPool2d(kernel_size=2, stride=2, padding=0, dilation=1, ceil_mode=False)\n",
       "  (flatten): Flatten(start_dim=1, end_dim=-1)\n",
       "  (fc1): Linear(in_features=192, out_features=120, bias=True)\n",
       "  (relu3): ReLU()\n",
       "  (fc2): Linear(in_features=120, out_features=60, bias=True)\n",
       "  (relu4): ReLU()\n",
       "  (out): Linear(in_features=60, out_features=10, bias=True)\n",
       ")"
      ]
     },
     "execution_count": 41,
     "metadata": {},
     "output_type": "execute_result"
    }
   ],
   "source": [
    "sequential3"
   ]
  },
  {
   "cell_type": "code",
   "execution_count": 46,
   "id": "1a8f8c5d",
   "metadata": {},
   "outputs": [
    {
     "data": {
      "text/plain": [
       "(tensor([[-0.0957,  0.1053, -0.1055,  0.1547, -0.0366, -0.0132,  0.0749, -0.1152,  0.0426,  0.0639]], grad_fn=<AddmmBackward>),\n",
       " tensor([[-0.0957,  0.1053, -0.1055,  0.1547, -0.0366, -0.0132,  0.0749, -0.1152,  0.0426,  0.0639]], grad_fn=<AddmmBackward>),\n",
       " tensor([[-0.0957,  0.1053, -0.1055,  0.1547, -0.0366, -0.0132,  0.0749, -0.1152,  0.0426,  0.0639]], grad_fn=<AddmmBackward>),\n",
       " tensor([[-0.0957,  0.1053, -0.1055,  0.1547, -0.0366, -0.0132,  0.0749, -0.1152,  0.0426,  0.0639]], grad_fn=<AddmmBackward>))"
      ]
     },
     "execution_count": 46,
     "metadata": {},
     "output_type": "execute_result"
    }
   ],
   "source": [
    "network(image), sequential1(image), sequential2(image), sequential3(image)"
   ]
  },
  {
   "cell_type": "code",
   "execution_count": null,
   "id": "87aabde5",
   "metadata": {},
   "outputs": [],
   "source": []
  }
 ],
 "metadata": {
  "kernelspec": {
   "display_name": "Python 3",
   "language": "python",
   "name": "python3"
  },
  "language_info": {
   "codemirror_mode": {
    "name": "ipython",
    "version": 3
   },
   "file_extension": ".py",
   "mimetype": "text/x-python",
   "name": "python",
   "nbconvert_exporter": "python",
   "pygments_lexer": "ipython3",
   "version": "3.8.8"
  }
 },
 "nbformat": 4,
 "nbformat_minor": 5
}
